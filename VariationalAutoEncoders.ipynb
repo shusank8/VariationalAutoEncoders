{
  "nbformat": 4,
  "nbformat_minor": 0,
  "metadata": {
    "colab": {
      "provenance": [],
      "authorship_tag": "ABX9TyNcuKMfgCVadTEiP7oH3Dwr",
      "include_colab_link": true
    },
    "kernelspec": {
      "name": "python3",
      "display_name": "Python 3"
    },
    "language_info": {
      "name": "python"
    }
  },
  "cells": [
    {
      "cell_type": "markdown",
      "metadata": {
        "id": "view-in-github",
        "colab_type": "text"
      },
      "source": [
        "<a href=\"https://colab.research.google.com/github/shusank8/VariationalAutoEncoders/blob/main/VariationalAutoEncoders.ipynb\" target=\"_parent\"><img src=\"https://colab.research.google.com/assets/colab-badge.svg\" alt=\"Open In Colab\"/></a>"
      ]
    },
    {
      "cell_type": "code",
      "execution_count": null,
      "metadata": {
        "id": "MYD0GC4WC6pv",
        "outputId": "61bfa3a8-53f4-4d03-a351-da34f15f6130",
        "colab": {
          "base_uri": "https://localhost:8080/"
        }
      },
      "outputs": [
        {
          "output_type": "stream",
          "name": "stdout",
          "text": [
            "Variational Auto Encoders: BY SHUSANKET BASYAL\n"
          ]
        }
      ],
      "source": [
        "print(\"Variational Auto Encoders: BY SHUSANKET BASYAL\")"
      ]
    },
    {
      "cell_type": "code",
      "source": [],
      "metadata": {
        "id": "bbO9UJCaDCWD"
      },
      "execution_count": null,
      "outputs": []
    }
  ]
}